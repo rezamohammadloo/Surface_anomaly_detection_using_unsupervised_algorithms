{
  "nbformat": 4,
  "nbformat_minor": 0,
  "metadata": {
    "colab": {
      "provenance": [],
      "gpuType": "T4",
      "authorship_tag": "ABX9TyMoK9iUzvOSW+36RO99T71T",
      "include_colab_link": true
    },
    "kernelspec": {
      "name": "python3",
      "display_name": "Python 3"
    },
    "language_info": {
      "name": "python"
    },
    "accelerator": "GPU"
  },
  "cells": [
    {
      "cell_type": "markdown",
      "metadata": {
        "id": "view-in-github",
        "colab_type": "text"
      },
      "source": [
        "<a href=\"https://colab.research.google.com/github/rezamohammadloo/Surface_anomaly_detection_using_unsupervised_algorithms/blob/main/SurfaceDefectDetectionUsingVAE.ipynb\" target=\"_parent\"><img src=\"https://colab.research.google.com/assets/colab-badge.svg\" alt=\"Open In Colab\"/></a>"
      ]
    },
    {
      "cell_type": "markdown",
      "source": [
        "Mount Google Drive"
      ],
      "metadata": {
        "id": "x3RyYN71fRZn"
      }
    },
    {
      "cell_type": "code",
      "source": [
        "# Mount Google Drive to access files stored in my Google Drive account\n",
        "from google.colab import drive\n",
        "drive.mount('/content/gdrive')"
      ],
      "metadata": {
        "id": "ohFYYrx7KHDN",
        "colab": {
          "base_uri": "https://localhost:8080/"
        },
        "outputId": "73d758db-b822-44d1-d388-e6dad3eff56b"
      },
      "execution_count": 1,
      "outputs": [
        {
          "output_type": "stream",
          "name": "stdout",
          "text": [
            "Mounted at /content/gdrive\n"
          ]
        }
      ]
    },
    {
      "cell_type": "markdown",
      "source": [
        "Import TensorFlow and Other Libraries"
      ],
      "metadata": {
        "id": "lSFcSfpgfsw-"
      }
    },
    {
      "cell_type": "code",
      "source": [
        "# Import TensorFlow and necessary libraries for building and training the VAE\n",
        "import tensorflow as tf\n",
        "from tensorflow.keras import layers, models, backend as K\n",
        "import numpy as np\n",
        "import os\n",
        "from tensorflow.keras.preprocessing.image import img_to_array, load_img"
      ],
      "metadata": {
        "id": "WFJWBWhzWtya"
      },
      "execution_count": 2,
      "outputs": []
    },
    {
      "cell_type": "markdown",
      "source": [
        "Load Images from Directory"
      ],
      "metadata": {
        "id": "tLHcwGMuf7N2"
      }
    },
    {
      "cell_type": "code",
      "source": [
        "# Define a function to load images from a specified directory and resize them to the target size\n",
        "def load_images_from_directory(directory, target_size=(128, 128)):\n",
        "    images = []\n",
        "    for filename in os.listdir(directory):\n",
        "        if filename.endswith('.png') or filename.endswith('.jpg'):\n",
        "            img = load_img(os.path.join(directory, filename), target_size=target_size)\n",
        "            img_array = img_to_array(img) #/ 255.0\n",
        "            images.append(img_array)\n",
        "    return np.array(images)\n",
        "\n",
        "# Directories\n",
        "# Specify the directories containing normal, anomaly, and mask images\n",
        "normal_dir = '/content/gdrive/MyDrive/glass-defect-sample/good'\n",
        "anomaly_dir = '/content/gdrive/MyDrive/glass-defect-sample/anomaly'\n",
        "mask_dir = '/content/gdrive/MyDrive/glass-defect-sample/mask'\n",
        "\n",
        "# Load data\n",
        "# Load the normal, anomaly, and mask images from their respective directories\n",
        "normal_images = load_images_from_directory(normal_dir)\n",
        "anomaly_images = load_images_from_directory(anomaly_dir)\n",
        "mask_images = load_images_from_directory(mask_dir)\n",
        "\n",
        "# Normalize images\n",
        "# Normalize the pixel values of the loaded images to the range [0, 1]\n",
        "normal_images = normal_images / 255.0\n",
        "anomaly_images = anomaly_images / 255.0\n",
        "mask_images = mask_images / 255.0"
      ],
      "metadata": {
        "id": "IuqvH3M5XYkf"
      },
      "execution_count": 3,
      "outputs": []
    },
    {
      "cell_type": "code",
      "source": [
        "latent_dim = 32\n",
        "\n",
        "# Encoder\n",
        "def encoder_model(input_shape):\n",
        "    inputs = layers.Input(shape=input_shape)\n",
        "    x = layers.Conv2D(32, (3, 3), activation='relu', padding='same')(inputs)\n",
        "    x = layers.MaxPooling2D((2, 2), padding='same')(x)\n",
        "    x = layers.Conv2D(64, (3, 3), activation='relu', padding='same')(x)\n",
        "    x = layers.MaxPooling2D((2, 2), padding='same')(x)\n",
        "    x = layers.Conv2D(128, (3, 3), activation='relu', padding='same')(x)\n",
        "    x = layers.MaxPooling2D((2, 2), padding='same')(x)\n",
        "    x = layers.Flatten()(x)\n",
        "    x = layers.Dense(128, activation='relu')(x)\n",
        "    z_mean = layers.Dense(latent_dim)(x)\n",
        "    z_log_var = layers.Dense(latent_dim)(x)\n",
        "    return models.Model(inputs, [z_mean, z_log_var], name='encoder')\n",
        "\n",
        "# Sampling layer\n",
        "def sampling(args):\n",
        "      # Define the sampling function to sample from the learned distribution\n",
        "    z_mean, z_log_var = args\n",
        "    batch = K.shape(z_mean)[0]\n",
        "    dim = K.int_shape(z_mean)[1]\n",
        "    epsilon = K.random_normal(shape=(batch, dim))\n",
        "    return z_mean + K.exp(0.5 * z_log_var) * epsilon\n",
        "\n",
        "# Decoder\n",
        "def decoder_model(latent_dim, input_shape):\n",
        "      # Define the decoder architecture\n",
        "    latent_inputs = layers.Input(shape=(latent_dim,))\n",
        "    x = layers.Dense((input_shape[0] // 8) * (input_shape[1] // 8) * 128, activation='relu')(latent_inputs)\n",
        "    x = layers.Reshape((input_shape[0] // 8, input_shape[1] // 8, 128))(x)\n",
        "    x = layers.Conv2DTranspose(128, (3, 3), activation='relu', padding='same')(x)\n",
        "    x = layers.UpSampling2D((2, 2))(x)\n",
        "    x = layers.Conv2DTranspose(64, (3, 3), activation='relu', padding='same')(x)\n",
        "    x = layers.UpSampling2D((2, 2))(x)\n",
        "    x = layers.Conv2DTranspose(32, (3, 3), activation='relu', padding='same')(x)\n",
        "    x = layers.UpSampling2D((2, 2))(x)\n",
        "    outputs = layers.Conv2DTranspose(3, (3, 3), activation='sigmoid', padding='same')(x)\n",
        "    return models.Model(latent_inputs, outputs, name='decoder')\n",
        "\n",
        "# Define input shape\n",
        "input_shape = (128, 128, 3)\n",
        "# Build the encoder\n",
        "encoder = encoder_model(input_shape)\n",
        "z_mean, z_log_var = encoder.output\n",
        "z = layers.Lambda(sampling, output_shape=(latent_dim,), name='z')([z_mean, z_log_var])\n",
        "decoder = decoder_model(latent_dim, input_shape)\n",
        "outputs = decoder(z)\n",
        "\n",
        "# VAE model\n",
        "vae = models.Model(encoder.input, outputs, name='vae')"
      ],
      "metadata": {
        "id": "OlMu1efaYamU"
      },
      "execution_count": 4,
      "outputs": []
    },
    {
      "cell_type": "code",
      "source": [
        "# Calculate the reconstruction loss using binary cross-entropy\n",
        "reconstruction_loss = tf.keras.losses.binary_crossentropy(K.flatten(encoder.input), K.flatten(outputs))\n",
        "# Scale the reconstruction loss based on the input shape\n",
        "reconstruction_loss *= input_shape[0] * input_shape[1] * input_shape[2]\n",
        "\n",
        "# Calculate the KL divergence loss\n",
        "kl_loss = 1 + z_log_var - K.square(z_mean) - K.exp(z_log_var)\n",
        "kl_loss = K.sum(kl_loss, axis=-1)\n",
        "kl_loss *= -0.5\n",
        "\n",
        "# Calculate the total VAE loss by combining the reconstruction and KL divergence losses\n",
        "vae_loss = K.mean(reconstruction_loss + kl_loss)\n",
        "\n",
        "# Add the VAE loss to the model\n",
        "vae.add_loss(vae_loss)\n",
        "\n",
        "# Compile the VAE model with the Adam optimizer\n",
        "vae.compile(optimizer='adam')\n"
      ],
      "metadata": {
        "id": "yWyhFiMvYxju"
      },
      "execution_count": 5,
      "outputs": []
    },
    {
      "cell_type": "code",
      "source": [
        "# Import the EarlyStopping callback from TensorFlow\n",
        "EarlyStopping = tf.keras.callbacks.EarlyStopping\n",
        "\n",
        "# Define the history object to store training metrics\n",
        "history = vae.fit(\n",
        "    # Train the VAE model on normal images with normal images as both input and target\n",
        "    normal_images, normal_images,\n",
        "    epochs=500,  # Number of epochs for training\n",
        "    batch_size=32,  # Batch size for training\n",
        "    validation_split=0.2,  # Fraction of training data to use for validation\n",
        "    callbacks=EarlyStopping(  # Early stopping callback to prevent overfitting\n",
        "        monitor=\"val_loss\",  # Monitor validation loss\n",
        "        verbose=1,  # Verbosity mode (1: progress bar, 0: silent)\n",
        "        patience=6,  # Number of epochs with no improvement after which training will be stopped\n",
        "        mode='min',  # Direction of improvement (minimize validation loss)\n",
        "        restore_best_weights=True  # Restore the model weights from the epoch with the best validation loss\n",
        "    )\n",
        ")\n"
      ],
      "metadata": {
        "collapsed": true,
        "id": "UQ5QFx3SY0Z1",
        "colab": {
          "base_uri": "https://localhost:8080/"
        },
        "outputId": "71dfc174-22d6-4788-b986-ef3135be08b9"
      },
      "execution_count": 6,
      "outputs": [
        {
          "output_type": "stream",
          "name": "stdout",
          "text": [
            "Epoch 1/500\n",
            "4/4 [==============================] - 14s 727ms/step - loss: 43281.5195 - val_loss: 26895.0801\n",
            "Epoch 2/500\n",
            "4/4 [==============================] - 0s 47ms/step - loss: 28235.4727 - val_loss: 31647.6191\n",
            "Epoch 3/500\n",
            "4/4 [==============================] - 0s 47ms/step - loss: 31775.7871 - val_loss: 31652.1289\n",
            "Epoch 4/500\n",
            "4/4 [==============================] - 0s 48ms/step - loss: 30951.3789 - val_loss: 29421.3848\n",
            "Epoch 5/500\n",
            "4/4 [==============================] - 0s 56ms/step - loss: 26522.7754 - val_loss: 26539.8652\n",
            "Epoch 6/500\n",
            "4/4 [==============================] - 0s 52ms/step - loss: 25571.9551 - val_loss: 24487.9180\n",
            "Epoch 7/500\n",
            "4/4 [==============================] - 0s 47ms/step - loss: 24652.4570 - val_loss: 25430.1309\n",
            "Epoch 8/500\n",
            "4/4 [==============================] - 0s 46ms/step - loss: 24401.7520 - val_loss: 24796.7676\n",
            "Epoch 9/500\n",
            "4/4 [==============================] - 0s 52ms/step - loss: 24182.3262 - val_loss: 24482.3301\n",
            "Epoch 10/500\n",
            "4/4 [==============================] - 0s 46ms/step - loss: 23802.7910 - val_loss: 24680.7383\n",
            "Epoch 11/500\n",
            "4/4 [==============================] - 0s 52ms/step - loss: 23830.5820 - val_loss: 24454.7578\n",
            "Epoch 12/500\n",
            "4/4 [==============================] - 0s 50ms/step - loss: 23641.2754 - val_loss: 24292.8828\n",
            "Epoch 13/500\n",
            "4/4 [==============================] - 0s 52ms/step - loss: 23540.6797 - val_loss: 24289.5078\n",
            "Epoch 14/500\n",
            "4/4 [==============================] - 0s 46ms/step - loss: 23494.6836 - val_loss: 24301.0234\n",
            "Epoch 15/500\n",
            "4/4 [==============================] - 0s 52ms/step - loss: 23589.8594 - val_loss: 24203.2832\n",
            "Epoch 16/500\n",
            "4/4 [==============================] - 0s 48ms/step - loss: 23532.2051 - val_loss: 24207.2754\n",
            "Epoch 17/500\n",
            "4/4 [==============================] - 0s 49ms/step - loss: 23497.3496 - val_loss: 24270.7793\n",
            "Epoch 18/500\n",
            "4/4 [==============================] - 0s 52ms/step - loss: 23447.1992 - val_loss: 24105.4629\n",
            "Epoch 19/500\n",
            "4/4 [==============================] - 0s 45ms/step - loss: 23475.5117 - val_loss: 24191.0742\n",
            "Epoch 20/500\n",
            "4/4 [==============================] - 0s 46ms/step - loss: 23402.9707 - val_loss: 24113.4316\n",
            "Epoch 21/500\n",
            "4/4 [==============================] - 0s 46ms/step - loss: 23449.0859 - val_loss: 24116.3125\n",
            "Epoch 22/500\n",
            "4/4 [==============================] - 0s 47ms/step - loss: 23379.2656 - val_loss: 24164.4297\n",
            "Epoch 23/500\n",
            "4/4 [==============================] - 0s 47ms/step - loss: 23345.8984 - val_loss: 24123.1523\n",
            "Epoch 24/500\n",
            "4/4 [==============================] - 0s 52ms/step - loss: 23414.3066 - val_loss: 24057.8945\n",
            "Epoch 25/500\n",
            "4/4 [==============================] - 0s 46ms/step - loss: 23371.6973 - val_loss: 24176.2559\n",
            "Epoch 26/500\n",
            "4/4 [==============================] - 0s 45ms/step - loss: 23373.9316 - val_loss: 24144.5410\n",
            "Epoch 27/500\n",
            "4/4 [==============================] - 0s 47ms/step - loss: 23305.7109 - val_loss: 24077.2070\n",
            "Epoch 28/500\n",
            "4/4 [==============================] - 0s 45ms/step - loss: 23360.4336 - val_loss: 24228.0801\n",
            "Epoch 29/500\n",
            "4/4 [==============================] - 0s 46ms/step - loss: 23245.2695 - val_loss: 24074.8535\n",
            "Epoch 30/500\n",
            "3/4 [=====================>........] - ETA: 0s - loss: 23443.7344Restoring model weights from the end of the best epoch: 24.\n",
            "4/4 [==============================] - 0s 59ms/step - loss: 23276.1055 - val_loss: 24194.5898\n",
            "Epoch 30: early stopping\n"
          ]
        }
      ]
    },
    {
      "cell_type": "code",
      "source": [
        "# Reconstruct normal and anomaly images using the trained VAE model\n",
        "reconstructed_normal = vae.predict(normal_images)\n",
        "reconstructed_anomaly = vae.predict(anomaly_images)\n",
        "\n",
        "# Define a function to compute reconstruction errors\n",
        "def compute_reconstruction_error(original, reconstructed):\n",
        "    return np.mean(np.abs(original - reconstructed), axis=(1, 2, 3))\n",
        "\n",
        "# Compute reconstruction errors for normal and anomaly images\n",
        "normal_errors = compute_reconstruction_error(normal_images, reconstructed_normal)\n",
        "anomaly_errors = compute_reconstruction_error(anomaly_images, reconstructed_anomaly)\n",
        "\n",
        "# Print mean reconstruction errors for normal and anomaly images\n",
        "print(\"Mean reconstruction error for normal images:\", np.mean(normal_errors))\n",
        "print(\"Mean reconstruction error for anomalous images:\", np.mean(anomaly_errors))"
      ],
      "metadata": {
        "id": "Ii1ZwqoRY2sP",
        "colab": {
          "base_uri": "https://localhost:8080/"
        },
        "outputId": "b76cd88b-6c74-4d8d-cf75-e4960cefc33d"
      },
      "execution_count": 7,
      "outputs": [
        {
          "output_type": "stream",
          "name": "stdout",
          "text": [
            "5/5 [==============================] - 0s 11ms/step\n",
            "2/2 [==============================] - 0s 447ms/step\n",
            "Mean reconstruction error for normal images: 0.044666532\n",
            "Mean reconstruction error for anomalous images: 0.14031217\n"
          ]
        }
      ]
    },
    {
      "cell_type": "code",
      "source": [
        "import matplotlib.pyplot as plt\n",
        "\n",
        "# Extract the loss and validation loss from the training history\n",
        "loss = history.history['loss']\n",
        "val_loss = history.history['val_loss']\n",
        "\n",
        "# Plot the loss and validation loss\n",
        "epochs = range(1, len(loss) + 1)\n",
        "\n",
        "plt.figure(figsize=(10, 6))\n",
        "plt.plot(epochs, loss, 'b', label='Training loss')  # Plot training loss\n",
        "plt.plot(epochs, val_loss, 'r', label='Validation loss')  # Plot validation loss\n",
        "plt.title('Training and Validation Loss')  # Set plot title\n",
        "plt.xlabel('Epochs')  # Set x-axis label\n",
        "plt.ylabel('Loss')  # Set y-axis label\n",
        "plt.legend()  # Display legend\n",
        "plt.show()  # Show plot\n"
      ],
      "metadata": {
        "id": "d9uyd0AzbPb8",
        "colab": {
          "base_uri": "https://localhost:8080/",
          "height": 564
        },
        "outputId": "d0192b48-0581-41a9-9d1d-381b31c7d5f4"
      },
      "execution_count": 8,
      "outputs": [
        {
          "output_type": "display_data",
          "data": {
            "text/plain": [
              "<Figure size 1000x600 with 1 Axes>"
            ],
            "image/png": "[encoded data removed]"
          },
          "metadata": {}
        }
      ]
    },
    {
      "cell_type": "code",
      "source": [
        "from sklearn.metrics import roc_auc_score, average_precision_score\n",
        "\n",
        "# Combine the reconstruction errors and true labels\n",
        "all_errors = np.concatenate([normal_errors, anomaly_errors])\n",
        "true_labels = np.concatenate([np.zeros(len(normal_errors)), np.ones(len(anomaly_errors))])\n",
        "\n",
        "# Define a threshold to classify anomalies based on reconstruction errors\n",
        "threshold = np.mean(all_errors)  # Adjust this threshold based on your specific use case\n",
        "\n",
        "# Predict labels based on the threshold\n",
        "predicted_labels = (all_errors > threshold).astype(int)\n",
        "\n",
        "\n",
        "# Calculate AUC-ROC\n",
        "auc_roc = roc_auc_score(true_labels, all_errors)\n",
        "print(f\"AUC-ROC: {auc_roc}\")\n",
        "\n",
        "# Calculate Average Precision (AP)\n",
        "average_precision = average_precision_score(true_labels, all_errors)\n",
        "print(f\"Average Precision (AP): {average_precision}\")\n",
        "\n"
      ],
      "metadata": {
        "id": "6WvdIshefIhp",
        "outputId": "a9a97efe-7718-4d13-e0f8-007ae3ef47a8",
        "colab": {
          "base_uri": "https://localhost:8080/"
        }
      },
      "execution_count": 12,
      "outputs": [
        {
          "output_type": "stream",
          "name": "stdout",
          "text": [
            "AUC-ROC: 0.9191082802547771\n",
            "Average Precision (AP): 0.8295025760780391\n"
          ]
        }
      ]
    }
  ]
}