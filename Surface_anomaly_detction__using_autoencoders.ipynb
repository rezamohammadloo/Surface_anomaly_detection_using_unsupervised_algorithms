{
  "nbformat": 4,
  "nbformat_minor": 0,
  "metadata": {
    "colab": {
      "provenance": [],
      "gpuType": "T4",
      "authorship_tag": "ABX9TyPPgBR6mdFTOrZJDZH3YK+h",
      "include_colab_link": true
    },
    "kernelspec": {
      "name": "python3",
      "display_name": "Python 3"
    },
    "language_info": {
      "name": "python"
    },
    "accelerator": "GPU"
  },
  "cells": [
    {
      "cell_type": "markdown",
      "metadata": {
        "id": "view-in-github",
        "colab_type": "text"
      },
      "source": [
        "<a href=\"https://colab.research.google.com/github/rezamohammadloo/Surface_anomaly_detection_using_unsupervised_algorithms/blob/main/Surface_anomaly_detction__using_autoencoders.ipynb\" target=\"_parent\"><img src=\"https://colab.research.google.com/assets/colab-badge.svg\" alt=\"Open In Colab\"/></a>"
      ]
    },
    {
      "cell_type": "code",
      "execution_count": 1,
      "metadata": {
        "colab": {
          "base_uri": "https://localhost:8080/"
        },
        "id": "d4wBrePUliDn",
        "outputId": "ad50c522-5396-405e-944f-6b4512c3c8a0"
      },
      "outputs": [
        {
          "output_type": "stream",
          "name": "stdout",
          "text": [
            "Mounted at /content/gdrive\n"
          ]
        }
      ],
      "source": [
        "# Mount Google Drive to access files stored in my Google Drive account\n",
        "from google.colab import drive\n",
        "drive.mount('/content/gdrive')"
      ]
    },
    {
      "cell_type": "code",
      "source": [
        "import os\n",
        "import numpy as np\n",
        "import tensorflow as tf\n",
        "from tensorflow.keras.preprocessing.image import load_img, img_to_array\n",
        "from sklearn.model_selection import train_test_split\n",
        "import matplotlib.pyplot as plt"
      ],
      "metadata": {
        "id": "yDipgGMKlngS"
      },
      "execution_count": 2,
      "outputs": []
    },
    {
      "cell_type": "code",
      "source": [
        "# Define a function to load images from a specified directory and resize them to the target size\n",
        "def load_images_from_directory(directory, target_size=(128, 128)):\n",
        "    images = []\n",
        "    for filename in os.listdir(directory):\n",
        "        if filename.endswith('.png') or filename.endswith('.jpg'):\n",
        "            img = load_img(os.path.join(directory, filename), target_size=target_size)\n",
        "            img_array = img_to_array(img) #/ 255.0\n",
        "            images.append(img_array)\n",
        "    return np.array(images)\n",
        "\n",
        "# Directories\n",
        "# Specify the directories containing normal, anomaly, and mask images\n",
        "normal_dir = '/content/gdrive/MyDrive/glass-defect-sample/good'\n",
        "anomaly_dir = '/content/gdrive/MyDrive/glass-defect-sample/anomaly'\n",
        "mask_dir = '/content/gdrive/MyDrive/glass-defect-sample/mask'\n",
        "\n",
        "# Load data\n",
        "# Load the normal, anomaly, and mask images from their respective directories\n",
        "good_images = load_images_from_directory(normal_dir)\n",
        "anomaly_images = load_images_from_directory(anomaly_dir)\n",
        "masks = load_images_from_directory(mask_dir)\n",
        "\n",
        "# Normalize images\n",
        "# Normalize the pixel values of the loaded images to the range [0, 1]\n",
        "good_images = good_images / 255.0\n",
        "anomaly_images = anomaly_images / 255.0\n",
        "masks = masks / 255.0\n",
        "\n",
        "# Split good images into training and validation sets\n",
        "train_images, val_images = train_test_split(good_images, test_size=0.2, random_state=42)"
      ],
      "metadata": {
        "id": "izheN-wVl45H"
      },
      "execution_count": 3,
      "outputs": []
    },
    {
      "cell_type": "code",
      "source": [
        "# Image dimensions\n",
        "img_height, img_width = 128, 128\n",
        "img_channels = 3\n",
        "\n",
        "from tensorflow.keras.models import Model\n",
        "from tensorflow.keras.layers import Input, Conv2D, MaxPooling2D, UpSampling2D\n",
        "\n",
        "def build_autoencoder(input_shape):\n",
        "    input_img = Input(shape=input_shape)\n",
        "\n",
        "    # Encoder\n",
        "    x = Conv2D(32, (3, 3), activation='relu', padding='same')(input_img)\n",
        "    x = MaxPooling2D((2, 2), padding='same')(x)\n",
        "    x = Conv2D(64, (3, 3), activation='relu', padding='same')(x)\n",
        "    x = MaxPooling2D((2, 2), padding='same')(x)\n",
        "\n",
        "    # Decoder\n",
        "    x = Conv2D(64, (3, 3), activation='relu', padding='same')(x)\n",
        "    x = UpSampling2D((2, 2))(x)\n",
        "    x = Conv2D(32, (3, 3), activation='relu', padding='same')(x)\n",
        "    x = UpSampling2D((2, 2))(x)\n",
        "    decoded = Conv2D(img_channels, (3, 3), activation='sigmoid', padding='same')(x)\n",
        "\n",
        "    autoencoder = Model(input_img, decoded)\n",
        "    autoencoder.compile(optimizer='adam', loss='binary_crossentropy')\n",
        "\n",
        "    return autoencoder\n",
        "\n",
        "autoencoder = build_autoencoder((img_height, img_width, img_channels))\n",
        "autoencoder.summary()\n"
      ],
      "metadata": {
        "colab": {
          "base_uri": "https://localhost:8080/"
        },
        "collapsed": true,
        "id": "fSG3CKlLl_J2",
        "outputId": "4043fdea-90cb-41fe-ce06-5d17cf77e4cc"
      },
      "execution_count": 4,
      "outputs": [
        {
          "output_type": "stream",
          "name": "stdout",
          "text": [
            "Model: \"model\"\n",
            "_________________________________________________________________\n",
            " Layer (type)                Output Shape              Param #   \n",
            "=================================================================\n",
            " input_1 (InputLayer)        [(None, 128, 128, 3)]     0         \n",
            "                                                                 \n",
            " conv2d (Conv2D)             (None, 128, 128, 32)      896       \n",
            "                                                                 \n",
            " max_pooling2d (MaxPooling2  (None, 64, 64, 32)        0         \n",
            " D)                                                              \n",
            "                                                                 \n",
            " conv2d_1 (Conv2D)           (None, 64, 64, 64)        18496     \n",
            "                                                                 \n",
            " max_pooling2d_1 (MaxPoolin  (None, 32, 32, 64)        0         \n",
            " g2D)                                                            \n",
            "                                                                 \n",
            " conv2d_2 (Conv2D)           (None, 32, 32, 64)        36928     \n",
            "                                                                 \n",
            " up_sampling2d (UpSampling2  (None, 64, 64, 64)        0         \n",
            " D)                                                              \n",
            "                                                                 \n",
            " conv2d_3 (Conv2D)           (None, 64, 64, 32)        18464     \n",
            "                                                                 \n",
            " up_sampling2d_1 (UpSamplin  (None, 128, 128, 32)      0         \n",
            " g2D)                                                            \n",
            "                                                                 \n",
            " conv2d_4 (Conv2D)           (None, 128, 128, 3)       867       \n",
            "                                                                 \n",
            "=================================================================\n",
            "Total params: 75651 (295.51 KB)\n",
            "Trainable params: 75651 (295.51 KB)\n",
            "Non-trainable params: 0 (0.00 Byte)\n",
            "_________________________________________________________________\n"
          ]
        }
      ]
    },
    {
      "cell_type": "code",
      "source": [
        "# Train the autoencoder\n",
        "EarlyStopping = tf.keras.callbacks.EarlyStopping\n",
        "\n",
        "history = autoencoder.fit(train_images, train_images,\n",
        "                          epochs=500,\n",
        "                          batch_size=32,\n",
        "                          validation_data=(val_images, val_images),\n",
        "                          verbose=1,\n",
        "                          callbacks=EarlyStopping(  # Early stopping callback to prevent overfitting\n",
        "        monitor=\"val_loss\",  # Monitor validation loss\n",
        "        verbose=1,  # Verbosity mode (1: progress bar, 0: silent)\n",
        "        patience=6,  # Number of epochs with no improvement after which training will be stopped\n",
        "        mode='min',  # Direction of improvement (minimize validation loss)\n",
        "        restore_best_weights=True  # Restore the model weights from the epoch with the best validation loss\n",
        "    ))\n"
      ],
      "metadata": {
        "colab": {
          "base_uri": "https://localhost:8080/"
        },
        "id": "_lR6aHmcmh7B",
        "outputId": "bb624eaa-4bd6-4ab9-e5f3-4a5cc01f1c07"
      },
      "execution_count": 5,
      "outputs": [
        {
          "output_type": "stream",
          "name": "stdout",
          "text": [
            "Epoch 1/500\n",
            "4/4 [==============================] - 8s 610ms/step - loss: 0.5780 - val_loss: 0.5236\n",
            "Epoch 2/500\n",
            "4/4 [==============================] - 0s 44ms/step - loss: 0.5003 - val_loss: 0.4997\n",
            "Epoch 3/500\n",
            "4/4 [==============================] - 0s 46ms/step - loss: 0.4816 - val_loss: 0.5063\n",
            "Epoch 4/500\n",
            "4/4 [==============================] - 0s 46ms/step - loss: 0.4790 - val_loss: 0.5044\n",
            "Epoch 5/500\n",
            "4/4 [==============================] - 0s 45ms/step - loss: 0.4775 - val_loss: 0.4997\n",
            "Epoch 6/500\n",
            "4/4 [==============================] - 0s 46ms/step - loss: 0.4736 - val_loss: 0.4979\n",
            "Epoch 7/500\n",
            "4/4 [==============================] - 0s 44ms/step - loss: 0.4732 - val_loss: 0.5001\n",
            "Epoch 8/500\n",
            "4/4 [==============================] - 0s 46ms/step - loss: 0.4731 - val_loss: 0.4970\n",
            "Epoch 9/500\n",
            "4/4 [==============================] - 0s 45ms/step - loss: 0.4720 - val_loss: 0.4979\n",
            "Epoch 10/500\n",
            "4/4 [==============================] - 0s 46ms/step - loss: 0.4716 - val_loss: 0.4963\n",
            "Epoch 11/500\n",
            "4/4 [==============================] - 0s 44ms/step - loss: 0.4712 - val_loss: 0.4972\n",
            "Epoch 12/500\n",
            "4/4 [==============================] - 0s 63ms/step - loss: 0.4711 - val_loss: 0.4959\n",
            "Epoch 13/500\n",
            "4/4 [==============================] - 0s 51ms/step - loss: 0.4707 - val_loss: 0.4964\n",
            "Epoch 14/500\n",
            "4/4 [==============================] - 0s 52ms/step - loss: 0.4704 - val_loss: 0.4956\n",
            "Epoch 15/500\n",
            "4/4 [==============================] - 0s 54ms/step - loss: 0.4704 - val_loss: 0.4957\n",
            "Epoch 16/500\n",
            "4/4 [==============================] - 0s 52ms/step - loss: 0.4701 - val_loss: 0.4955\n",
            "Epoch 17/500\n",
            "4/4 [==============================] - 0s 51ms/step - loss: 0.4705 - val_loss: 0.4954\n",
            "Epoch 18/500\n",
            "4/4 [==============================] - 0s 53ms/step - loss: 0.4702 - val_loss: 0.4950\n",
            "Epoch 19/500\n",
            "4/4 [==============================] - 0s 52ms/step - loss: 0.4698 - val_loss: 0.4964\n",
            "Epoch 20/500\n",
            "4/4 [==============================] - 0s 71ms/step - loss: 0.4699 - val_loss: 0.4950\n",
            "Epoch 21/500\n",
            "4/4 [==============================] - 0s 50ms/step - loss: 0.4700 - val_loss: 0.4954\n",
            "Epoch 22/500\n",
            "4/4 [==============================] - 0s 49ms/step - loss: 0.4698 - val_loss: 0.4955\n",
            "Epoch 23/500\n",
            "4/4 [==============================] - 0s 52ms/step - loss: 0.4695 - val_loss: 0.4947\n",
            "Epoch 24/500\n",
            "4/4 [==============================] - 0s 52ms/step - loss: 0.4694 - val_loss: 0.4951\n",
            "Epoch 25/500\n",
            "4/4 [==============================] - 0s 50ms/step - loss: 0.4695 - val_loss: 0.4947\n",
            "Epoch 26/500\n",
            "4/4 [==============================] - 0s 52ms/step - loss: 0.4699 - val_loss: 0.4948\n",
            "Epoch 27/500\n",
            "4/4 [==============================] - 0s 54ms/step - loss: 0.4695 - val_loss: 0.4952\n",
            "Epoch 28/500\n",
            "4/4 [==============================] - 0s 55ms/step - loss: 0.4697 - val_loss: 0.4943\n",
            "Epoch 29/500\n",
            "4/4 [==============================] - 0s 66ms/step - loss: 0.4690 - val_loss: 0.4957\n",
            "Epoch 30/500\n",
            "4/4 [==============================] - 0s 52ms/step - loss: 0.4692 - val_loss: 0.4940\n",
            "Epoch 31/500\n",
            "4/4 [==============================] - 0s 66ms/step - loss: 0.4689 - val_loss: 0.4954\n",
            "Epoch 32/500\n",
            "4/4 [==============================] - 0s 53ms/step - loss: 0.4692 - val_loss: 0.4939\n",
            "Epoch 33/500\n",
            "4/4 [==============================] - 0s 49ms/step - loss: 0.4695 - val_loss: 0.4946\n",
            "Epoch 34/500\n",
            "4/4 [==============================] - 0s 50ms/step - loss: 0.4690 - val_loss: 0.4939\n",
            "Epoch 35/500\n",
            "4/4 [==============================] - 0s 50ms/step - loss: 0.4686 - val_loss: 0.4942\n",
            "Epoch 36/500\n",
            "4/4 [==============================] - 0s 45ms/step - loss: 0.4684 - val_loss: 0.4936\n",
            "Epoch 37/500\n",
            "4/4 [==============================] - 0s 44ms/step - loss: 0.4684 - val_loss: 0.4939\n",
            "Epoch 38/500\n",
            "4/4 [==============================] - 0s 44ms/step - loss: 0.4683 - val_loss: 0.4932\n",
            "Epoch 39/500\n",
            "4/4 [==============================] - 0s 44ms/step - loss: 0.4685 - val_loss: 0.4948\n",
            "Epoch 40/500\n",
            "4/4 [==============================] - 0s 46ms/step - loss: 0.4686 - val_loss: 0.4928\n",
            "Epoch 41/500\n",
            "4/4 [==============================] - 0s 47ms/step - loss: 0.4685 - val_loss: 0.4928\n",
            "Epoch 42/500\n",
            "4/4 [==============================] - 0s 44ms/step - loss: 0.4691 - val_loss: 0.4955\n",
            "Epoch 43/500\n",
            "4/4 [==============================] - 0s 45ms/step - loss: 0.4678 - val_loss: 0.4925\n",
            "Epoch 44/500\n",
            "4/4 [==============================] - 0s 46ms/step - loss: 0.4675 - val_loss: 0.4948\n",
            "Epoch 45/500\n",
            "4/4 [==============================] - 0s 45ms/step - loss: 0.4674 - val_loss: 0.4930\n",
            "Epoch 46/500\n",
            "4/4 [==============================] - 0s 42ms/step - loss: 0.4681 - val_loss: 0.4952\n",
            "Epoch 47/500\n",
            "4/4 [==============================] - 0s 46ms/step - loss: 0.4675 - val_loss: 0.4916\n",
            "Epoch 48/500\n",
            "4/4 [==============================] - 0s 44ms/step - loss: 0.4671 - val_loss: 0.4913\n",
            "Epoch 49/500\n",
            "4/4 [==============================] - 0s 42ms/step - loss: 0.4675 - val_loss: 0.4919\n",
            "Epoch 50/500\n",
            "4/4 [==============================] - 0s 45ms/step - loss: 0.4664 - val_loss: 0.4921\n",
            "Epoch 51/500\n",
            "4/4 [==============================] - 0s 44ms/step - loss: 0.4661 - val_loss: 0.4905\n",
            "Epoch 52/500\n",
            "4/4 [==============================] - 0s 45ms/step - loss: 0.4655 - val_loss: 0.4905\n",
            "Epoch 53/500\n",
            "4/4 [==============================] - 0s 48ms/step - loss: 0.4652 - val_loss: 0.4898\n",
            "Epoch 54/500\n",
            "4/4 [==============================] - 0s 45ms/step - loss: 0.4650 - val_loss: 0.4893\n",
            "Epoch 55/500\n",
            "4/4 [==============================] - 0s 44ms/step - loss: 0.4649 - val_loss: 0.4896\n",
            "Epoch 56/500\n",
            "4/4 [==============================] - 0s 45ms/step - loss: 0.4641 - val_loss: 0.4908\n",
            "Epoch 57/500\n",
            "4/4 [==============================] - 0s 48ms/step - loss: 0.4653 - val_loss: 0.4892\n",
            "Epoch 58/500\n",
            "4/4 [==============================] - 0s 48ms/step - loss: 0.4645 - val_loss: 0.4884\n",
            "Epoch 59/500\n",
            "4/4 [==============================] - 0s 46ms/step - loss: 0.4648 - val_loss: 0.4876\n",
            "Epoch 60/500\n",
            "4/4 [==============================] - 0s 44ms/step - loss: 0.4645 - val_loss: 0.4876\n",
            "Epoch 61/500\n",
            "4/4 [==============================] - 0s 44ms/step - loss: 0.4637 - val_loss: 0.4881\n",
            "Epoch 62/500\n",
            "4/4 [==============================] - 0s 45ms/step - loss: 0.4639 - val_loss: 0.4883\n",
            "Epoch 63/500\n",
            "4/4 [==============================] - 0s 46ms/step - loss: 0.4640 - val_loss: 0.4888\n",
            "Epoch 64/500\n",
            "4/4 [==============================] - 0s 46ms/step - loss: 0.4629 - val_loss: 0.4883\n",
            "Epoch 65/500\n",
            "3/4 [=====================>........] - ETA: 0s - loss: 0.4564Restoring model weights from the end of the best epoch: 59.\n",
            "4/4 [==============================] - 0s 53ms/step - loss: 0.4630 - val_loss: 0.4879\n",
            "Epoch 65: early stopping\n"
          ]
        }
      ]
    },
    {
      "cell_type": "code",
      "source": [
        "import matplotlib.pyplot as plt\n",
        "\n",
        "# Extract the loss and validation loss from the training history\n",
        "loss = history.history['loss']\n",
        "val_loss = history.history['val_loss']\n",
        "\n",
        "# Plot the loss and validation loss\n",
        "epochs = range(1, len(loss) + 1)\n",
        "\n",
        "plt.figure(figsize=(10, 6))\n",
        "plt.plot(epochs, loss, 'b', label='Training loss')  # Plot training loss\n",
        "plt.plot(epochs, val_loss, 'r', label='Validation loss')  # Plot validation loss\n",
        "plt.title('Training and Validation Loss')  # Set plot title\n",
        "plt.xlabel('Epochs')  # Set x-axis label\n",
        "plt.ylabel('Loss')  # Set y-axis label\n",
        "plt.legend()  # Display legend\n",
        "plt.show()  # Show plot"
      ],
      "metadata": {
        "colab": {
          "base_uri": "https://localhost:8080/",
          "height": 564
        },
        "id": "aB5P6Lhvm1_r",
        "outputId": "8ec4b340-7c96-459d-ea71-9fdcbadba729"
      },
      "execution_count": 6,
      "outputs": [
        {
          "output_type": "display_data",
          "data": {
            "text/plain": [
              "<Figure size 1000x600 with 1 Axes>"
            ],
            "image/png": "[encoded data removed]"
          },
          "metadata": {}
        }
      ]
    },
    {
      "cell_type": "code",
      "source": [
        "def calculate_reconstruction_error(original, reconstructed):\n",
        "    return np.mean(np.abs(original - reconstructed), axis=(1, 2, 3))\n",
        "\n",
        "# Predict on anomaly images\n",
        "reconstructed_anomalies = autoencoder.predict(anomaly_images)\n",
        "\n",
        "# Calculate reconstruction error\n",
        "reconstruction_errors = calculate_reconstruction_error(anomaly_images, reconstructed_anomalies)\n",
        "\n",
        "# Threshold for anomaly detection (this can be tuned)\n",
        "threshold = np.percentile(reconstruction_errors, 95)\n",
        "\n",
        "# Detect anomalies\n",
        "anomalies_detected = reconstruction_errors > threshold"
      ],
      "metadata": {
        "colab": {
          "base_uri": "https://localhost:8080/"
        },
        "id": "teCQWgCvoK5r",
        "outputId": "fb15c652-fa41-4140-f24a-d4140a902816"
      },
      "execution_count": 7,
      "outputs": [
        {
          "output_type": "stream",
          "name": "stdout",
          "text": [
            "2/2 [==============================] - 1s 370ms/step\n"
          ]
        }
      ]
    },
    {
      "cell_type": "code",
      "source": [
        "from sklearn.metrics import roc_auc_score, average_precision_score\n",
        "\n",
        "# Function to calculate reconstruction error\n",
        "def calculate_reconstruction_error(original, reconstructed):\n",
        "    return np.mean(np.abs(original - reconstructed), axis=(1, 2, 3))\n",
        "\n",
        "# Predict on both good and anomaly images\n",
        "reconstructed_good = autoencoder.predict(good_images)\n",
        "reconstructed_anomalies = autoencoder.predict(anomaly_images)\n",
        "\n",
        "# Calculate reconstruction error for both\n",
        "good_errors = calculate_reconstruction_error(good_images, reconstructed_good)\n",
        "anomaly_errors = calculate_reconstruction_error(anomaly_images, reconstructed_anomalies)\n",
        "\n",
        "# Combine errors and labels\n",
        "all_errors = np.concatenate([good_errors, anomaly_errors])\n",
        "all_labels = np.concatenate([np.zeros(len(good_errors)), np.ones(len(anomaly_errors))])\n",
        "\n",
        "# Compute AUROC\n",
        "auroc = roc_auc_score(all_labels, all_errors)\n",
        "print(f'AUROC: {auroc:.4f}')\n",
        "\n",
        "# Compute Average Precision (AP)\n",
        "ap = average_precision_score(all_labels, all_errors)\n",
        "print(f'Average Precision (AP): {ap:.4f}')\n"
      ],
      "metadata": {
        "colab": {
          "base_uri": "https://localhost:8080/"
        },
        "id": "Yu5BsOQDoti5",
        "outputId": "8af1bd46-9430-4884-d805-91ba98e8a942"
      },
      "execution_count": 8,
      "outputs": [
        {
          "output_type": "stream",
          "name": "stdout",
          "text": [
            "5/5 [==============================] - 0s 9ms/step\n",
            "2/2 [==============================] - 0s 9ms/step\n",
            "AUROC: 0.9358\n",
            "Average Precision (AP): 0.8495\n"
          ]
        }
      ]
    },
    {
      "cell_type": "code",
      "source": [],
      "metadata": {
        "id": "pJgqE4Cypwhe"
      },
      "execution_count": 8,
      "outputs": []
    }
  ]
}